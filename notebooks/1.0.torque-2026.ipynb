{
 "cells": [
  {
   "cell_type": "markdown",
   "id": "3934b77c",
   "metadata": {},
   "source": [
    "# Effect of as-built dimensions on fatigue life of a monopile foundation\n",
    "\n",
    "This notebook imports the `owilab_torque2026` package and reproduces the key outputs from the original analysis."
   ]
  },
  {
   "cell_type": "code",
   "execution_count": null,
   "id": "c1f182ef",
   "metadata": {},
   "outputs": [],
   "source": [
    "%load_ext autoreload\n",
    "%autoreload 2\n",
    "%config InteractiveShell.ast_node_interactivity = 'none'\n",
    "%config Completer.use_jedi = False"
   ]
  },
  {
   "cell_type": "code",
   "execution_count": null,
   "id": "b44a20a6",
   "metadata": {},
   "outputs": [],
   "source": [
    "# Imports and style\n",
    "import logging\n",
    "logging.basicConfig(level=logging.INFO)\n",
    "import warnings\n",
    "warnings.simplefilter(action='ignore', category=FutureWarning)\n",
    "import numpy as np\n",
    "import matplotlib.pyplot as plt\n",
    "from scipy.stats import truncnorm\n",
    "\n",
    "from py_fatigue import SNCurve\n",
    "\n",
    "from owilab_torque2026 import stress_factors, fatigue, plot\n"
   ]
  },
  {
   "cell_type": "code",
   "execution_count": null,
   "id": "8e9504dd",
   "metadata": {},
   "outputs": [],
   "source": [
    "plt.rcParams['figure.figsize'] = (7, 4)\n",
    "plt.rcParams[\"font.family\"] = [\"Arial\", \"monospace\"]\n",
    "plt.rcParams[\"font.size\"] = 10\n",
    "plt.rcParams[\"pdf.fonttype\"] = 42\n",
    "plt.rcParams[\"ps.fonttype\"] = 42\n",
    "plt.rcParams[\"axes.grid\"] = True\n",
    "plt.rcParams['grid.color'] = \"#E4E8EE\"\n",
    "plt.rcParams['grid.linestyle'] = \"-\"\n",
    "plt.rcParams['axes.spines.right'] = False\n",
    "plt.rcParams['axes.spines.top'] = False\n",
    "plt.rcParams['lines.markersize'] = 3\n",
    "plt.rcParams['xtick.bottom'] = False\n",
    "plt.rcParams['xtick.labelbottom'] = True\n",
    "plt.rcParams['ytick.left'] = False\n",
    "plt.rcParams['ytick.labelleft'] = True\n"
   ]
  },
  {
   "cell_type": "code",
   "execution_count": null,
   "id": "fea9acdc",
   "metadata": {},
   "outputs": [],
   "source": [
    "%%html\n",
    "<style>\n",
    "@import url('https://fonts.googleapis.com/css2?family=Courier+Prime:wght@400;700&display=swap');\n",
    "/* Any CSS style can go in here. */\n",
    ".dataframe th {\n",
    "    font-size: 12px;\n",
    "    font-weight: 700;\n",
    "    font-family: 'Courier Prime', monospace;\n",
    "}\n",
    ".dataframe td {\n",
    "    font-size: 11px;\n",
    "    font-weight: 400;\n",
    "    font-family: 'Courier Prime', monospace;\n",
    "}\n",
    "</style>\n"
   ]
  },
  {
   "cell_type": "markdown",
   "id": "1fcd1267",
   "metadata": {},
   "source": [
    "## Nominal parameters and distributions"
   ]
  },
  {
   "cell_type": "code",
   "execution_count": null,
   "id": "ed806fe2",
   "metadata": {},
   "outputs": [],
   "source": [
    "# Nominal dimensions (mm)\n",
    "T_nom = 73\n",
    "t_nom = 68\n",
    "D_nom = 7200\n",
    "misalignment_nom = 3\n",
    "\n",
    "# Tolerances\n",
    "n_samples = 200000\n",
    "\n",
    "# t (smaller thickness)\n",
    "t_tol_low, t_tol_up = 0, 3\n",
    "L_t, U_t = t_nom + t_tol_low, t_nom + t_tol_up\n",
    "mean_target_t, sigma_t = t_nom + 0.01 * t_nom, (t_tol_up - t_tol_low) / 6\n",
    "a_t, b_t = (L_t - mean_target_t) / sigma_t, (U_t - mean_target_t) / sigma_t\n",
    "trunc_t = truncnorm(a_t, b_t, loc=mean_target_t, scale=sigma_t)\n",
    "samples_trunc_t = trunc_t.rvs(n_samples)\n",
    "\n",
    "# T (larger thickness)\n",
    "T_tol_low, T_tol_up = 0, 3\n",
    "L_T, U_T = T_nom + T_tol_low, T_nom + T_tol_up\n",
    "mean_target_T, sigma_T = T_nom + 0.01 * T_nom, (T_tol_up - T_tol_low) / 6\n",
    "a_T, b_T = (L_T - mean_target_T) / sigma_T, (U_T - mean_target_T) / sigma_T\n",
    "trunc_T = truncnorm(a_T, b_T, loc=mean_target_T, scale=sigma_T)\n",
    "samples_trunc_T = trunc_T.rvs(n_samples)\n",
    "\n",
    "# D (outer diameter)\n",
    "D_tol_low, D_tol_up = -10, 10\n",
    "mean_target_D = D_nom\n",
    "sigma_D = (D_tol_up - D_tol_low) / 6\n",
    "L_D = D_nom + D_tol_low\n",
    "U_D = D_nom + D_tol_up\n",
    "a_D = (L_D - mean_target_D) / sigma_D\n",
    "b_D = (U_D - mean_target_D) / sigma_D\n",
    "trunc_D = truncnorm(a_D, b_D, loc=mean_target_D, scale=sigma_D)\n",
    "samples_trunc_D = trunc_D.rvs(n_samples)\n",
    "\n",
    "# Misalignment\n",
    "L_cm, U_cm = 0, 10\n",
    "mean_misalignment = misalignment_nom\n",
    "sigma_cm = (U_cm - L_cm) / 6\n",
    "a_cm, b_cm = (L_cm - mean_misalignment) / sigma_cm, (U_cm - mean_misalignment) / sigma_cm\n",
    "trunc_misalignment = truncnorm(a_cm, b_cm, loc=mean_misalignment, scale=sigma_cm)\n",
    "samples_misalignment = trunc_misalignment.rvs(n_samples)"
   ]
  },
  {
   "cell_type": "code",
   "execution_count": null,
   "id": "6053e93e",
   "metadata": {},
   "outputs": [],
   "source": [
    "# Show the interface between the cans (magnified x4 for better visibility)\n",
    "plot.cans_interface_3d(\n",
    "    t_nom, T_nom, D_nom / 4, misalignment_nom * 4, azim=60, elev=20\n",
    ")"
   ]
  },
  {
   "cell_type": "code",
   "execution_count": null,
   "id": "2bc33cb3",
   "metadata": {},
   "outputs": [],
   "source": [
    "# Plot truncated distributions (using package plotting)\n",
    "plot.truncated_norms_t1_t2_d(\n",
    "    trunc_t, trunc_T, trunc_D,\n",
    "    L_t, U_t, L_T, U_T,\n",
    "    mean_target_D, D_tol_low, D_tol_up,\n",
    ")\n",
    "\n",
    "plot.misalignment_pdf(samples_misalignment, trunc_misalignment, L_cm, U_cm)"
   ]
  },
  {
   "cell_type": "markdown",
   "id": "c7ac5f26",
   "metadata": {},
   "source": [
    "## SN curve, design life, and Weibull scale"
   ]
  },
  {
   "cell_type": "code",
   "execution_count": null,
   "id": "5757c426",
   "metadata": {},
   "outputs": [],
   "source": [
    "# SN curve (Sea water with CP)\n",
    "sn = SNCurve(\n",
    "    slope=[3, 5],\n",
    "    intercept=[11.764, 15.606],\n",
    "    environment='Water with cathodic protection',\n",
    "    curve='DNV-D-C',\n",
    "    norm='DNVGL-RP-C203/2016',\n",
    "    color='b',\n",
    ")\n",
    "\n",
    "display(sn)\n",
    "m1, m2 = sn.slope\n",
    "loga1, loga2 = sn.intercept\n",
    "S = sn.get_knee_stress()[0]\n",
    "\n",
    "# Design parameters\n",
    "n = 0.16*3600*24*365\n",
    "h = 0.8\n",
    "T = 20\n",
    "FDF = 3\n",
    "\n",
    "# Effective thickness parameters\n",
    "weld_width_nom = 0.64 * t_nom\n",
    "t_ref = 25\n",
    "t_eff_allowance = 6\n",
    "t_corr_exponent = 0.2\n",
    "\n",
    "# Nominal SMFs (inner reference)\n",
    "SMF_IN_nom, SMF_OUT_nom = stress_factors.smf_inner_outer(\n",
    "    D_nom, t_nom, T_nom, misalignment_nom,\n",
    "    t_ref, t_eff_allowance, t_corr_exponent, weld_width_nom,\n",
    "    material_factor=1.25, section_modulus_reference=\"inner\",\n",
    ")\n",
    "\n",
    "# Solve q_mean for nominal\n",
    "q_mean = fatigue.solve_weibull_scale_for_damage(\n",
    "    m1, m2, loga1, loga2, S, h, T, n, FDF, SMF_IN_nom,\n",
    ")\n",
    "display(q_mean)"
   ]
  },
  {
   "cell_type": "code",
   "execution_count": null,
   "id": "e0f5020c",
   "metadata": {},
   "outputs": [],
   "source": [
    "# Weibull PDF plot using q_mean (package plotting)\n",
    "bin_edges_stress = np.append(np.arange(0, 30, 0.5), np.inf)\n",
    "k = 0.8\n",
    "lambda_ = q_mean\n",
    "x = bin_edges_stress\n",
    "pdf = fatigue.weibull_bin_pdf(x, k_shape=k, scale=lambda_)\n",
    "print(\"sum(pdf) =\", pdf.sum())\n",
    "\n",
    "plot.weibull_pdf(\n",
    "    x, pdf,\n",
    "    label=f\"Design Weibull scale={lambda_:.2f} and shape={k}\",\n",
    "    title=f\"Weibull Stress Range on Inside of monopile for fatigue life of {T} years and with FDF = {FDF}\",\n",
    "    xlim=(0, 30),\n",
    ")"
   ]
  },
  {
   "cell_type": "markdown",
   "id": "51275ddc",
   "metadata": {},
   "source": [
    "## Stress multiplication factors and fatigue life grids"
   ]
  },
  {
   "cell_type": "code",
   "execution_count": null,
   "id": "e436f725",
   "metadata": {},
   "outputs": [],
   "source": [
    "# Build DataFrame using nominal settings\n",
    "df = stress_factors.build_smf_dataframe(\n",
    "    t_nom, t_tol_up, T_nom, T_tol_up, D_nom, D_tol_low, D_tol_up,\n",
    "    L_cm, U_cm, t_ref, t_eff_allowance, t_corr_exponent,\n",
    "    material_factor=1.25, n_t=20, n_t_big=20, n_d=21, n_mis=51\n",
    ")\n",
    "display(df.head())\n",
    "display(df.tail())"
   ]
  },
  {
   "cell_type": "code",
   "execution_count": null,
   "id": "b2f47173",
   "metadata": {},
   "outputs": [],
   "source": [
    "df = fatigue.compute_fatigue_life(df=df, q_mean=q_mean, sn=sn, h=h, n_cycles=n,\n",
    "                                  fdf=FDF, s_knee=S)\n",
    "display(df)"
   ]
  },
  {
   "cell_type": "code",
   "execution_count": null,
   "id": "7af054f6",
   "metadata": {},
   "outputs": [],
   "source": [
    "# Slice at fixed D and misalignment for contour of Fatigue_life_IN\n",
    "D_fix = 7200\n",
    "mis_fix = 3.5\n",
    "tol = 1e-3\n",
    "\n",
    "df_slice = df[(np.abs(df['D'] - D_fix) < tol) & (np.abs(df['misalignment'] - mis_fix) < tol)]\n",
    "\n",
    "pivot_t_T = df_slice.pivot_table(index='t', columns='T', values='Fatigue_life_IN')\n",
    "\n",
    "plot.contour_life_t1_t2(\n",
    "    pivot_t_T, trunc_t, trunc_T,\n",
    "    title=f'Iso-lines of Fatigue Life Inside (D={D_fix}, misalignment={mis_fix})'\n",
    ")"
   ]
  },
  {
   "cell_type": "code",
   "execution_count": null,
   "id": "4321dc15",
   "metadata": {},
   "outputs": [],
   "source": [
    "# Slice at fixed t and T for contour of Fatigue_life_IN\n",
    "t_fix = 68\n",
    "T_fix = 73\n",
    "df_slice = df[(np.abs(df['t'] - t_fix) < tol) & (np.abs(df['T'] - T_fix) < tol)]\n",
    "pivot_D_mis = df_slice.pivot_table(index='D', columns='misalignment',\n",
    "                                   values='Fatigue_life_IN')\n",
    "plot.contour_life_d_mis(\n",
    "        pivot_D_mis, trunc_D, trunc_misalignment,\n",
    "    title=f'Iso-lines of Fatigue Life Inside (t={t_fix}, T={T_fix})'\n",
    ")"
   ]
  },
  {
   "cell_type": "code",
   "execution_count": null,
   "id": "bb1641dc",
   "metadata": {},
   "outputs": [],
   "source": [
    "plot.life_surfaces_t1_t2_by_misalignment_at_d(\n",
    "    df.loc[(df['Fatigue_life_IN'] <= 22) & (df['Fatigue_life_IN'] >= 18)], d_fix=7200\n",
    ")"
   ]
  },
  {
   "cell_type": "code",
   "execution_count": null,
   "id": "bd7d85b1",
   "metadata": {},
   "outputs": [],
   "source": [
    "plot.life_surfaces_t1_t2_by_misalignment_at_d(\n",
    "    df.loc[df['Fatigue_life_IN'] < 35], d_fix=7200\n",
    ")"
   ]
  },
  {
   "cell_type": "code",
   "execution_count": null,
   "id": "741667e2",
   "metadata": {},
   "outputs": [],
   "source": [
    "plot.misalignment_surfaces_t1_t2_by_fatigue_life_at_d(\n",
    "    df, D_fix,\n",
    "    trunc_t, trunc_T, trunc_misalignment,\n",
    "    levels_life=[10, 20, 50, 100, 200],\n",
    "    elev=30, azim=105,\n",
    "    cmap='managua',\n",
    "    alpha=0.8,\n",
    "    edgecolor='lightgrey',\n",
    "    linewidth=0.2,\n",
    "    title=None,\n",
    "    cmap_position=[0.275, 0, 0.5, 0.03]\n",
    ")"
   ]
  }
 ],
 "metadata": {
  "kernelspec": {
   "display_name": "Torque-2026 (3.11.11)",
   "language": "python",
   "name": "python3"
  },
  "language_info": {
   "codemirror_mode": {
    "name": "ipython",
    "version": 3
   },
   "file_extension": ".py",
   "mimetype": "text/x-python",
   "name": "python",
   "nbconvert_exporter": "python",
   "pygments_lexer": "ipython3",
   "version": "3.11.11"
  }
 },
 "nbformat": 4,
 "nbformat_minor": 5
}
